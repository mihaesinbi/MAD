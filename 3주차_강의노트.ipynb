{
 "cells": [
  {
   "cell_type": "markdown",
   "metadata": {
    "collapsed": true
   },
   "source": [
    "# 3주차 강의노트"
   ]
  },
  {
   "cell_type": "markdown",
   "metadata": {},
   "source": [
    "## 1. 파이썬 클래스\n",
    "- oop : object oriented progrma\n",
    "- 객체지향 프로그래밍 : 데이터와 함수를 하나로 (cf 절차지향 프로그래밍)"
   ]
  },
  {
   "cell_type": "code",
   "execution_count": 1,
   "metadata": {
    "collapsed": true
   },
   "outputs": [],
   "source": [
    "# 예시\n",
    "s = \"hello\""
   ]
  },
  {
   "cell_type": "code",
   "execution_count": 2,
   "metadata": {
    "collapsed": false
   },
   "outputs": [
    {
     "data": {
      "text/plain": [
       "'HELLO'"
      ]
     },
     "execution_count": 2,
     "metadata": {},
     "output_type": "execute_result"
    }
   ],
   "source": [
    "# s.xxxxxx 과 같은 것이 바로 객체지향\n",
    "s.upper()"
   ]
  },
  {
   "cell_type": "code",
   "execution_count": 3,
   "metadata": {
    "collapsed": false
   },
   "outputs": [
    {
     "data": {
      "text/plain": [
       "'hello'"
      ]
     },
     "execution_count": 3,
     "metadata": {},
     "output_type": "execute_result"
    }
   ],
   "source": [
    "s.lower()"
   ]
  },
  {
   "cell_type": "code",
   "execution_count": 4,
   "metadata": {
    "collapsed": false
   },
   "outputs": [
    {
     "data": {
      "text/plain": [
       "list"
      ]
     },
     "execution_count": 4,
     "metadata": {},
     "output_type": "execute_result"
    }
   ],
   "source": [
    "a = [1,2,3]\n",
    "type(a)"
   ]
  },
  {
   "cell_type": "code",
   "execution_count": 5,
   "metadata": {
    "collapsed": false
   },
   "outputs": [],
   "source": [
    "a.reverse()"
   ]
  },
  {
   "cell_type": "code",
   "execution_count": 6,
   "metadata": {
    "collapsed": false
   },
   "outputs": [
    {
     "data": {
      "text/plain": [
       "[3, 2, 1]"
      ]
     },
     "execution_count": 6,
     "metadata": {},
     "output_type": "execute_result"
    }
   ],
   "source": [
    "a"
   ]
  },
  {
   "cell_type": "code",
   "execution_count": 7,
   "metadata": {
    "collapsed": true
   },
   "outputs": [],
   "source": [
    "t = \"hello\""
   ]
  },
  {
   "cell_type": "code",
   "execution_count": 8,
   "metadata": {
    "collapsed": false
   },
   "outputs": [
    {
     "data": {
      "text/plain": [
       "94100"
      ]
     },
     "execution_count": 8,
     "metadata": {},
     "output_type": "execute_result"
    }
   ],
   "source": [
    "# 그동안 우리가 하던 방법 - 함수를 이용\n",
    "holding = {'name':'miraeasset', 'shares':10, 'price':9410}\n",
    "def get_cost(holding):\n",
    "    return holding['shares']*holding['price']\n",
    "get_cost(holding)"
   ]
  },
  {
   "cell_type": "code",
   "execution_count": 9,
   "metadata": {
    "collapsed": false
   },
   "outputs": [],
   "source": [
    "# 새로운 클래스 방법\n",
    "class holding:\n",
    "    def __init__(self, name, shares, price):\n",
    "        self.name = name\n",
    "        self.shares = shares\n",
    "        self.price = price\n",
    "    \n",
    "    def get_cost(self):\n",
    "        return self.shares*self.price"
   ]
  },
  {
   "cell_type": "code",
   "execution_count": 10,
   "metadata": {
    "collapsed": true
   },
   "outputs": [],
   "source": [
    "# 명함 스타트업 gogo\n",
    "name = \"kim\"\n",
    "email = 'kim@naver.com'\n",
    "addr = 'kangnam'"
   ]
  },
  {
   "cell_type": "code",
   "execution_count": 11,
   "metadata": {
    "collapsed": true
   },
   "outputs": [],
   "source": [
    "def print_bcard(name, email, addr):\n",
    "    print(\"*\" * 40)\n",
    "    print(\"name :\", name)\n",
    "    print(\"email :\", email)\n",
    "    print(\"addr: \", addr)\n",
    "    print(\"*\" * 40)"
   ]
  },
  {
   "cell_type": "code",
   "execution_count": 12,
   "metadata": {
    "collapsed": false
   },
   "outputs": [
    {
     "name": "stdout",
     "output_type": "stream",
     "text": [
      "****************************************\n",
      "name : kim\n",
      "email : kim@naver.com\n",
      "addr:  kangnam\n",
      "****************************************\n"
     ]
    }
   ],
   "source": [
    "print_bcard(name, email, addr)"
   ]
  },
  {
   "cell_type": "code",
   "execution_count": 13,
   "metadata": {
    "collapsed": true
   },
   "outputs": [],
   "source": [
    "name2 = \"lee\"\n",
    "email2 = \"lee@gmail.com\"\n",
    "addr2 = \"seoul\""
   ]
  },
  {
   "cell_type": "code",
   "execution_count": 14,
   "metadata": {
    "collapsed": false
   },
   "outputs": [
    {
     "name": "stdout",
     "output_type": "stream",
     "text": [
      "****************************************\n",
      "name : lee\n",
      "email : lee@gmail.com\n",
      "addr:  seoul\n",
      "****************************************\n"
     ]
    }
   ],
   "source": [
    "print_bcard(name2, email2, addr2)"
   ]
  },
  {
   "cell_type": "code",
   "execution_count": 15,
   "metadata": {
    "collapsed": true
   },
   "outputs": [],
   "source": [
    "# 아... -_-; 변수가 점점 많아지네???????\n",
    "# 변수화로 계속할 수 없으니 변수를 담아낼 컨테이너가 필요하다\n",
    "# 컨테이너는 리스트나 튜플\n",
    "# 근데 튜플은 데이터 수정이 안 되자나?\n",
    "# 그러니 리스트로 gogo"
   ]
  },
  {
   "cell_type": "code",
   "execution_count": 16,
   "metadata": {
    "collapsed": true
   },
   "outputs": [],
   "source": [
    "def print_bcard(name, email, addr):\n",
    "    print(\"*\" * 40)\n",
    "    print(\"name :\", name)\n",
    "    print(\"email :\", email)\n",
    "    print(\"addr: \", addr)\n",
    "    print(\"*\" * 40)\n",
    "    \n",
    "name_list = [\"kim\", \"lee\"]\n",
    "email_list = [\"kim@naver.com\", \"lee@gmail.com\"]\n",
    "addr_list = [\"kangnam\", \"seoul\"]"
   ]
  },
  {
   "cell_type": "code",
   "execution_count": 17,
   "metadata": {
    "collapsed": false
   },
   "outputs": [
    {
     "name": "stdout",
     "output_type": "stream",
     "text": [
      "****************************************\n",
      "name : kim\n",
      "email : kim@naver.com\n",
      "addr:  kangnam\n",
      "****************************************\n"
     ]
    }
   ],
   "source": [
    "print_bcard(name_list[0], email_list[0], addr_list[0])"
   ]
  },
  {
   "cell_type": "code",
   "execution_count": 18,
   "metadata": {
    "collapsed": true
   },
   "outputs": [],
   "source": [
    "# 클래스 실습"
   ]
  },
  {
   "cell_type": "code",
   "execution_count": 19,
   "metadata": {
    "collapsed": true
   },
   "outputs": [],
   "source": [
    "class BusinessCard:\n",
    "    pass"
   ]
  },
  {
   "cell_type": "code",
   "execution_count": 20,
   "metadata": {
    "collapsed": true
   },
   "outputs": [],
   "source": [
    "s = str(\"hello\")"
   ]
  },
  {
   "cell_type": "code",
   "execution_count": 21,
   "metadata": {
    "collapsed": false
   },
   "outputs": [
    {
     "data": {
      "text/plain": [
       "'hello'"
      ]
     },
     "execution_count": 21,
     "metadata": {},
     "output_type": "execute_result"
    }
   ],
   "source": [
    "s"
   ]
  },
  {
   "cell_type": "code",
   "execution_count": 22,
   "metadata": {
    "collapsed": true
   },
   "outputs": [],
   "source": [
    "s2 = \"hello\""
   ]
  },
  {
   "cell_type": "code",
   "execution_count": 23,
   "metadata": {
    "collapsed": true
   },
   "outputs": [],
   "source": [
    "member = BusinessCard()"
   ]
  },
  {
   "cell_type": "code",
   "execution_count": 24,
   "metadata": {
    "collapsed": false
   },
   "outputs": [
    {
     "data": {
      "text/plain": [
       "__main__.BusinessCard"
      ]
     },
     "execution_count": 24,
     "metadata": {},
     "output_type": "execute_result"
    }
   ],
   "source": [
    "type(member)"
   ]
  },
  {
   "cell_type": "code",
   "execution_count": 25,
   "metadata": {
    "collapsed": true
   },
   "outputs": [],
   "source": [
    "a = 1\n",
    "b = 2\n",
    "c = 3\n",
    "# 얘네 모두 integer type의 class"
   ]
  },
  {
   "cell_type": "code",
   "execution_count": 26,
   "metadata": {
    "collapsed": true
   },
   "outputs": [],
   "source": [
    "# 명함 클래스 업데이트\n",
    "class BusinessCard:\n",
    "    def set_info(self, name, email):\n",
    "        self.name = name\n",
    "        self.email = email"
   ]
  },
  {
   "cell_type": "code",
   "execution_count": 27,
   "metadata": {
    "collapsed": true
   },
   "outputs": [],
   "source": [
    "member1 = BusinessCard()"
   ]
  },
  {
   "cell_type": "code",
   "execution_count": 28,
   "metadata": {
    "collapsed": true
   },
   "outputs": [],
   "source": [
    "member1.set_info(\"kim\", \"kim@naver.com\")"
   ]
  },
  {
   "cell_type": "code",
   "execution_count": 29,
   "metadata": {
    "collapsed": false
   },
   "outputs": [
    {
     "data": {
      "text/plain": [
       "'kim'"
      ]
     },
     "execution_count": 29,
     "metadata": {},
     "output_type": "execute_result"
    }
   ],
   "source": [
    "member1.name"
   ]
  },
  {
   "cell_type": "code",
   "execution_count": 30,
   "metadata": {
    "collapsed": false
   },
   "outputs": [
    {
     "data": {
      "text/plain": [
       "'kim@naver.com'"
      ]
     },
     "execution_count": 30,
     "metadata": {},
     "output_type": "execute_result"
    }
   ],
   "source": [
    "#오와 대박 ㅋ\n",
    "member1.email"
   ]
  },
  {
   "cell_type": "code",
   "execution_count": 31,
   "metadata": {
    "collapsed": true
   },
   "outputs": [],
   "source": [
    "member2 = BusinessCard()"
   ]
  },
  {
   "cell_type": "code",
   "execution_count": 32,
   "metadata": {
    "collapsed": true
   },
   "outputs": [],
   "source": [
    "member2.set_info(\"lee\", \"lee@gmail.com\")"
   ]
  },
  {
   "cell_type": "code",
   "execution_count": 33,
   "metadata": {
    "collapsed": false
   },
   "outputs": [
    {
     "data": {
      "text/plain": [
       "'lee'"
      ]
     },
     "execution_count": 33,
     "metadata": {},
     "output_type": "execute_result"
    }
   ],
   "source": [
    "member2.name"
   ]
  },
  {
   "cell_type": "code",
   "execution_count": 34,
   "metadata": {
    "collapsed": false
   },
   "outputs": [
    {
     "data": {
      "text/plain": [
       "'lee@gmail.com'"
      ]
     },
     "execution_count": 34,
     "metadata": {},
     "output_type": "execute_result"
    }
   ],
   "source": [
    "member2.email"
   ]
  },
  {
   "cell_type": "code",
   "execution_count": 35,
   "metadata": {
    "collapsed": false
   },
   "outputs": [
    {
     "data": {
      "text/plain": [
       "<__main__.BusinessCard at 0x1df66d66240>"
      ]
     },
     "execution_count": 35,
     "metadata": {},
     "output_type": "execute_result"
    }
   ],
   "source": [
    "member1"
   ]
  },
  {
   "cell_type": "code",
   "execution_count": 36,
   "metadata": {
    "collapsed": false
   },
   "outputs": [
    {
     "data": {
      "text/plain": [
       "<__main__.BusinessCard at 0x1df66d66390>"
      ]
     },
     "execution_count": 36,
     "metadata": {},
     "output_type": "execute_result"
    }
   ],
   "source": [
    "member2"
   ]
  },
  {
   "cell_type": "code",
   "execution_count": 37,
   "metadata": {
    "collapsed": true
   },
   "outputs": [],
   "source": [
    "member_list = [member1, member2]"
   ]
  },
  {
   "cell_type": "code",
   "execution_count": 38,
   "metadata": {
    "collapsed": false
   },
   "outputs": [
    {
     "data": {
      "text/plain": [
       "<__main__.BusinessCard at 0x1df66d66240>"
      ]
     },
     "execution_count": 38,
     "metadata": {},
     "output_type": "execute_result"
    }
   ],
   "source": [
    "#위에랑 비교합시다!\n",
    "member_list[0]"
   ]
  },
  {
   "cell_type": "code",
   "execution_count": 39,
   "metadata": {
    "collapsed": false
   },
   "outputs": [
    {
     "data": {
      "text/plain": [
       "<__main__.BusinessCard at 0x1df66d66390>"
      ]
     },
     "execution_count": 39,
     "metadata": {},
     "output_type": "execute_result"
    }
   ],
   "source": [
    "member_list[1]"
   ]
  },
  {
   "cell_type": "code",
   "execution_count": 40,
   "metadata": {
    "collapsed": false
   },
   "outputs": [
    {
     "data": {
      "text/plain": [
       "'kim'"
      ]
     },
     "execution_count": 40,
     "metadata": {},
     "output_type": "execute_result"
    }
   ],
   "source": [
    "member_list[0].name"
   ]
  },
  {
   "cell_type": "code",
   "execution_count": 41,
   "metadata": {
    "collapsed": false
   },
   "outputs": [
    {
     "data": {
      "text/plain": [
       "'lee'"
      ]
     },
     "execution_count": 41,
     "metadata": {},
     "output_type": "execute_result"
    }
   ],
   "source": [
    "member_list[1].name"
   ]
  },
  {
   "cell_type": "code",
   "execution_count": 42,
   "metadata": {
    "collapsed": false
   },
   "outputs": [
    {
     "data": {
      "text/plain": [
       "'kim@naver.com'"
      ]
     },
     "execution_count": 42,
     "metadata": {},
     "output_type": "execute_result"
    }
   ],
   "source": [
    "member_list[0].email"
   ]
  },
  {
   "cell_type": "code",
   "execution_count": 43,
   "metadata": {
    "collapsed": false
   },
   "outputs": [
    {
     "data": {
      "text/plain": [
       "'lee@gmail.com'"
      ]
     },
     "execution_count": 43,
     "metadata": {},
     "output_type": "execute_result"
    }
   ],
   "source": [
    "member_list[1].email"
   ]
  },
  {
   "cell_type": "code",
   "execution_count": 44,
   "metadata": {
    "collapsed": true
   },
   "outputs": [],
   "source": [
    "class BusinessCard:\n",
    "    def set_info(self, name, email):\n",
    "        self.name = name\n",
    "        self.email = email\n",
    "    def print_bcard(self):\n",
    "        print(\"-\"*20)\n",
    "        print(self.name)\n",
    "        print(self.email)\n",
    "        print(\"-\"*20)"
   ]
  },
  {
   "cell_type": "code",
   "execution_count": 45,
   "metadata": {
    "collapsed": true
   },
   "outputs": [],
   "source": [
    "mem1 = BusinessCard()"
   ]
  },
  {
   "cell_type": "code",
   "execution_count": 46,
   "metadata": {
    "collapsed": true
   },
   "outputs": [],
   "source": [
    "mem1.set_info(\"kim\", \"kim@naver.com\")"
   ]
  },
  {
   "cell_type": "code",
   "execution_count": 47,
   "metadata": {
    "collapsed": false
   },
   "outputs": [
    {
     "name": "stdout",
     "output_type": "stream",
     "text": [
      "--------------------\n",
      "kim\n",
      "kim@naver.com\n",
      "--------------------\n"
     ]
    }
   ],
   "source": [
    "mem1.print_bcard()"
   ]
  },
  {
   "cell_type": "code",
   "execution_count": 48,
   "metadata": {
    "collapsed": true
   },
   "outputs": [],
   "source": [
    "mem2 = BusinessCard()"
   ]
  },
  {
   "cell_type": "code",
   "execution_count": 49,
   "metadata": {
    "collapsed": true
   },
   "outputs": [],
   "source": [
    "mem2.set_info(\"lee\", \"lee@gmail.com\")"
   ]
  },
  {
   "cell_type": "code",
   "execution_count": 50,
   "metadata": {
    "collapsed": false
   },
   "outputs": [
    {
     "name": "stdout",
     "output_type": "stream",
     "text": [
      "--------------------\n",
      "lee\n",
      "lee@gmail.com\n",
      "--------------------\n"
     ]
    }
   ],
   "source": [
    "mem2.print_bcard()"
   ]
  },
  {
   "cell_type": "code",
   "execution_count": 51,
   "metadata": {
    "collapsed": false
   },
   "outputs": [
    {
     "name": "stdout",
     "output_type": "stream",
     "text": [
      "--------------------\n",
      "kim\n",
      "kim@naver.com\n",
      "--------------------\n",
      "--------------------\n",
      "lee\n",
      "lee@gmail.com\n",
      "--------------------\n"
     ]
    }
   ],
   "source": [
    "for x in [mem1, mem2]:\n",
    "    x.print_bcard()"
   ]
  },
  {
   "cell_type": "code",
   "execution_count": 52,
   "metadata": {
    "collapsed": true
   },
   "outputs": [],
   "source": [
    "# 연습문제 풀어봅시다"
   ]
  },
  {
   "cell_type": "code",
   "execution_count": 53,
   "metadata": {
    "collapsed": true
   },
   "outputs": [],
   "source": [
    "class Customer:\n",
    "    def init(self, name, balance):\n",
    "        self.name = name\n",
    "        self.balance = balance"
   ]
  },
  {
   "cell_type": "code",
   "execution_count": 54,
   "metadata": {
    "collapsed": true
   },
   "outputs": [],
   "source": [
    "c1 = Customer()"
   ]
  },
  {
   "cell_type": "code",
   "execution_count": 55,
   "metadata": {
    "collapsed": true
   },
   "outputs": [],
   "source": [
    "c1.init(\"kim\", 10000)"
   ]
  },
  {
   "cell_type": "code",
   "execution_count": 56,
   "metadata": {
    "collapsed": false
   },
   "outputs": [
    {
     "data": {
      "text/plain": [
       "'kim'"
      ]
     },
     "execution_count": 56,
     "metadata": {},
     "output_type": "execute_result"
    }
   ],
   "source": [
    "c1.name"
   ]
  },
  {
   "cell_type": "code",
   "execution_count": 57,
   "metadata": {
    "collapsed": false
   },
   "outputs": [
    {
     "data": {
      "text/plain": [
       "10000"
      ]
     },
     "execution_count": 57,
     "metadata": {},
     "output_type": "execute_result"
    }
   ],
   "source": [
    "c1.balance"
   ]
  },
  {
   "cell_type": "code",
   "execution_count": 58,
   "metadata": {
    "collapsed": true
   },
   "outputs": [],
   "source": [
    "class Customer:\n",
    "    def init(self, name, balance):\n",
    "        self.name = name\n",
    "        self.balance = balance\n",
    "    def deposit(self, money):\n",
    "        self.balance = self.balance + money\n",
    "    def withdraw(self, money):\n",
    "        self.balance = self.balance - money"
   ]
  },
  {
   "cell_type": "code",
   "execution_count": 59,
   "metadata": {
    "collapsed": true
   },
   "outputs": [],
   "source": [
    "c1 = Customer()"
   ]
  },
  {
   "cell_type": "code",
   "execution_count": 60,
   "metadata": {
    "collapsed": true
   },
   "outputs": [],
   "source": [
    "c1.init(\"choi\", 100000)"
   ]
  },
  {
   "cell_type": "code",
   "execution_count": 61,
   "metadata": {
    "collapsed": false
   },
   "outputs": [
    {
     "data": {
      "text/plain": [
       "100000"
      ]
     },
     "execution_count": 61,
     "metadata": {},
     "output_type": "execute_result"
    }
   ],
   "source": [
    "c1.balance"
   ]
  },
  {
   "cell_type": "code",
   "execution_count": 62,
   "metadata": {
    "collapsed": true
   },
   "outputs": [],
   "source": [
    "c1.deposit(10000)"
   ]
  },
  {
   "cell_type": "code",
   "execution_count": 63,
   "metadata": {
    "collapsed": false
   },
   "outputs": [
    {
     "data": {
      "text/plain": [
       "110000"
      ]
     },
     "execution_count": 63,
     "metadata": {},
     "output_type": "execute_result"
    }
   ],
   "source": [
    "c1.balance"
   ]
  },
  {
   "cell_type": "code",
   "execution_count": 64,
   "metadata": {
    "collapsed": true
   },
   "outputs": [],
   "source": [
    "c1.withdraw(1000000)"
   ]
  },
  {
   "cell_type": "code",
   "execution_count": 65,
   "metadata": {
    "collapsed": false
   },
   "outputs": [
    {
     "data": {
      "text/plain": [
       "-890000"
      ]
     },
     "execution_count": 65,
     "metadata": {},
     "output_type": "execute_result"
    }
   ],
   "source": [
    "c1.balance"
   ]
  },
  {
   "cell_type": "markdown",
   "metadata": {},
   "source": [
    "## 2. 파이썬 클래스 이해하기 - 1"
   ]
  },
  {
   "cell_type": "code",
   "execution_count": 66,
   "metadata": {
    "collapsed": true
   },
   "outputs": [],
   "source": [
    "# 전 챕터의 내용은 class선언과 변수 입력이 제각각"
   ]
  },
  {
   "cell_type": "code",
   "execution_count": 67,
   "metadata": {
    "collapsed": true
   },
   "outputs": [],
   "source": [
    "# 이번 장은 class와 변수를 동시에"
   ]
  },
  {
   "cell_type": "code",
   "execution_count": 68,
   "metadata": {
    "collapsed": true
   },
   "outputs": [],
   "source": [
    "class Test:\n",
    "    def __init__(self):\n",
    "        print(\"객체 생성됐음\")"
   ]
  },
  {
   "cell_type": "code",
   "execution_count": 69,
   "metadata": {
    "collapsed": false
   },
   "outputs": [
    {
     "name": "stdout",
     "output_type": "stream",
     "text": [
      "객체 생성됐음\n"
     ]
    }
   ],
   "source": [
    "t = Test()\n",
    "# 생성될 때 자동으로 호출되는 걸 생성자라고 함\n",
    "# constructer???"
   ]
  },
  {
   "cell_type": "code",
   "execution_count": 70,
   "metadata": {
    "collapsed": true
   },
   "outputs": [],
   "source": [
    "# 위의 카드와 비교\n",
    "class BusinessCard:\n",
    "    def __init__(self, name, email):\n",
    "        self.name = name\n",
    "        self.email = email\n",
    "    def print_bcard(self):\n",
    "        print(\"-\"*20)\n",
    "        print(self.name)\n",
    "        print(self.email)\n",
    "        print(\"-\"*20)"
   ]
  },
  {
   "cell_type": "code",
   "execution_count": 71,
   "metadata": {
    "collapsed": true
   },
   "outputs": [],
   "source": [
    "# 바로 위 Cell에서 확인해 보면 __init__의 역할 확인\n",
    "# 클래스를 생성하면서 정보가 들어오지 않아 경고 뜸\n",
    "mem1 = BusinessCard(\"kim\", \"kim@naver.com\")\n",
    "# 경고 안 뜰 거임....."
   ]
  },
  {
   "cell_type": "code",
   "execution_count": 72,
   "metadata": {
    "collapsed": true
   },
   "outputs": [],
   "source": [
    "# self 이해하기 (스스로 이해하기???)\n",
    "class Foo:\n",
    "    def func1():\n",
    "        print(\"function 1\")\n",
    "    def func2(self):\n",
    "        print(\"function 2\")"
   ]
  },
  {
   "cell_type": "code",
   "execution_count": 73,
   "metadata": {
    "collapsed": false
   },
   "outputs": [],
   "source": [
    "f = Foo()"
   ]
  },
  {
   "cell_type": "code",
   "execution_count": 74,
   "metadata": {
    "collapsed": false
   },
   "outputs": [
    {
     "name": "stdout",
     "output_type": "stream",
     "text": [
      "function 2\n"
     ]
    }
   ],
   "source": [
    "f.func2()"
   ]
  },
  {
   "cell_type": "code",
   "execution_count": 75,
   "metadata": {
    "collapsed": false
   },
   "outputs": [],
   "source": [
    "# f.func1()\n",
    "# function1은 오류 메시지 뜸"
   ]
  },
  {
   "cell_type": "code",
   "execution_count": 76,
   "metadata": {
    "collapsed": true
   },
   "outputs": [],
   "source": [
    "# self의 정체\n",
    "class Foo:\n",
    "    def func2(self):\n",
    "        print(id(self))"
   ]
  },
  {
   "cell_type": "code",
   "execution_count": 77,
   "metadata": {
    "collapsed": true
   },
   "outputs": [],
   "source": [
    "f = Foo()"
   ]
  },
  {
   "cell_type": "code",
   "execution_count": 78,
   "metadata": {
    "collapsed": false
   },
   "outputs": [
    {
     "data": {
      "text/plain": [
       "2059013820992"
      ]
     },
     "execution_count": 78,
     "metadata": {},
     "output_type": "execute_result"
    }
   ],
   "source": [
    "id(f)"
   ]
  },
  {
   "cell_type": "code",
   "execution_count": 79,
   "metadata": {
    "collapsed": false
   },
   "outputs": [
    {
     "name": "stdout",
     "output_type": "stream",
     "text": [
      "2059013820992\n"
     ]
    }
   ],
   "source": [
    "f.func2()"
   ]
  },
  {
   "cell_type": "code",
   "execution_count": 80,
   "metadata": {
    "collapsed": true
   },
   "outputs": [],
   "source": [
    "# 이게 무슨 말이냐?\n",
    "# self는 객체 그 자신을 부른다."
   ]
  },
  {
   "cell_type": "code",
   "execution_count": 81,
   "metadata": {
    "collapsed": true
   },
   "outputs": [],
   "source": [
    "k = Foo()"
   ]
  },
  {
   "cell_type": "code",
   "execution_count": 82,
   "metadata": {
    "collapsed": false
   },
   "outputs": [
    {
     "name": "stdout",
     "output_type": "stream",
     "text": [
      "2059013821832\n"
     ]
    }
   ],
   "source": [
    "k.func2()"
   ]
  },
  {
   "cell_type": "code",
   "execution_count": 83,
   "metadata": {
    "collapsed": true
   },
   "outputs": [],
   "source": [
    "# 자 이제 다시\n",
    "class Foo:\n",
    "    def func1():\n",
    "        print(\"function 1\")\n",
    "    def func2(self):\n",
    "        print(\"function 2\")"
   ]
  },
  {
   "cell_type": "code",
   "execution_count": 84,
   "metadata": {
    "collapsed": true
   },
   "outputs": [],
   "source": [
    "f = Foo()"
   ]
  },
  {
   "cell_type": "code",
   "execution_count": 85,
   "metadata": {
    "collapsed": false
   },
   "outputs": [
    {
     "name": "stdout",
     "output_type": "stream",
     "text": [
      "function 2\n"
     ]
    }
   ],
   "source": [
    "f.func2()"
   ]
  },
  {
   "cell_type": "code",
   "execution_count": 86,
   "metadata": {
    "collapsed": false
   },
   "outputs": [
    {
     "name": "stdout",
     "output_type": "stream",
     "text": [
      "function 2\n"
     ]
    }
   ],
   "source": [
    "Foo.func2(f)"
   ]
  },
  {
   "cell_type": "code",
   "execution_count": 87,
   "metadata": {
    "collapsed": false
   },
   "outputs": [
    {
     "name": "stdout",
     "output_type": "stream",
     "text": [
      "function 1\n"
     ]
    }
   ],
   "source": [
    "Foo.func1()"
   ]
  },
  {
   "cell_type": "code",
   "execution_count": 88,
   "metadata": {
    "collapsed": true
   },
   "outputs": [],
   "source": [
    "k = Foo()"
   ]
  },
  {
   "cell_type": "code",
   "execution_count": 89,
   "metadata": {
    "collapsed": false
   },
   "outputs": [
    {
     "name": "stdout",
     "output_type": "stream",
     "text": [
      "function 2\n"
     ]
    }
   ],
   "source": [
    "Foo.func2(k)"
   ]
  },
  {
   "cell_type": "code",
   "execution_count": 90,
   "metadata": {
    "collapsed": false
   },
   "outputs": [
    {
     "name": "stdout",
     "output_type": "stream",
     "text": [
      "function 2\n"
     ]
    }
   ],
   "source": [
    "# 위에 코드와 같은 의미야!!!\n",
    "k.func2()"
   ]
  },
  {
   "cell_type": "code",
   "execution_count": 91,
   "metadata": {
    "collapsed": true
   },
   "outputs": [],
   "source": [
    "# 클래스 네임스페이스\n",
    "class Stock:\n",
    "    market = \"kospi\""
   ]
  },
  {
   "cell_type": "code",
   "execution_count": 92,
   "metadata": {
    "collapsed": true
   },
   "outputs": [],
   "source": [
    "a = Stock()"
   ]
  },
  {
   "cell_type": "code",
   "execution_count": 93,
   "metadata": {
    "collapsed": true
   },
   "outputs": [],
   "source": [
    "b = Stock()"
   ]
  },
  {
   "cell_type": "code",
   "execution_count": 94,
   "metadata": {
    "collapsed": false
   },
   "outputs": [
    {
     "data": {
      "text/plain": [
       "{}"
      ]
     },
     "execution_count": 94,
     "metadata": {},
     "output_type": "execute_result"
    }
   ],
   "source": [
    "a.__dict__"
   ]
  },
  {
   "cell_type": "code",
   "execution_count": 95,
   "metadata": {
    "collapsed": false
   },
   "outputs": [
    {
     "data": {
      "text/plain": [
       "{}"
      ]
     },
     "execution_count": 95,
     "metadata": {},
     "output_type": "execute_result"
    }
   ],
   "source": [
    "b.__dict__"
   ]
  },
  {
   "cell_type": "code",
   "execution_count": 96,
   "metadata": {
    "collapsed": false
   },
   "outputs": [
    {
     "data": {
      "text/plain": [
       "'kospi'"
      ]
     },
     "execution_count": 96,
     "metadata": {},
     "output_type": "execute_result"
    }
   ],
   "source": [
    "# 근데? a.market을 하면 'kospi'가 출력되는데 이유\n",
    "a.market"
   ]
  },
  {
   "cell_type": "code",
   "execution_count": 97,
   "metadata": {
    "collapsed": true
   },
   "outputs": [],
   "source": [
    "a.market = 'kosdaq'"
   ]
  },
  {
   "cell_type": "code",
   "execution_count": 98,
   "metadata": {
    "collapsed": false
   },
   "outputs": [
    {
     "data": {
      "text/plain": [
       "'kosdaq'"
      ]
     },
     "execution_count": 98,
     "metadata": {},
     "output_type": "execute_result"
    }
   ],
   "source": [
    "a.market"
   ]
  },
  {
   "cell_type": "code",
   "execution_count": 99,
   "metadata": {
    "collapsed": false
   },
   "outputs": [
    {
     "data": {
      "text/plain": [
       "'kospi'"
      ]
     },
     "execution_count": 99,
     "metadata": {},
     "output_type": "execute_result"
    }
   ],
   "source": [
    "b.market"
   ]
  },
  {
   "cell_type": "code",
   "execution_count": 100,
   "metadata": {
    "collapsed": true
   },
   "outputs": [],
   "source": [
    "del a.market"
   ]
  },
  {
   "cell_type": "code",
   "execution_count": 101,
   "metadata": {
    "collapsed": false
   },
   "outputs": [
    {
     "data": {
      "text/plain": [
       "'kospi'"
      ]
     },
     "execution_count": 101,
     "metadata": {},
     "output_type": "execute_result"
    }
   ],
   "source": [
    "a.market"
   ]
  },
  {
   "cell_type": "code",
   "execution_count": 102,
   "metadata": {
    "collapsed": true
   },
   "outputs": [],
   "source": [
    "class BCard:\n",
    "    pass"
   ]
  },
  {
   "cell_type": "code",
   "execution_count": 103,
   "metadata": {
    "collapsed": true
   },
   "outputs": [],
   "source": [
    "mem1 = BCard()"
   ]
  },
  {
   "cell_type": "code",
   "execution_count": 104,
   "metadata": {
    "collapsed": true
   },
   "outputs": [],
   "source": [
    "mem1.name = 'Kim'"
   ]
  },
  {
   "cell_type": "code",
   "execution_count": 105,
   "metadata": {
    "collapsed": true
   },
   "outputs": [],
   "source": [
    "mem1.email = \"kim@naver.com\""
   ]
  },
  {
   "cell_type": "code",
   "execution_count": 106,
   "metadata": {
    "collapsed": true
   },
   "outputs": [],
   "source": [
    "mem2 = BCard()"
   ]
  },
  {
   "cell_type": "code",
   "execution_count": 107,
   "metadata": {
    "collapsed": false
   },
   "outputs": [
    {
     "data": {
      "text/plain": [
       "{'email': 'kim@naver.com', 'name': 'Kim'}"
      ]
     },
     "execution_count": 107,
     "metadata": {},
     "output_type": "execute_result"
    }
   ],
   "source": [
    "mem1.__dict__"
   ]
  },
  {
   "cell_type": "code",
   "execution_count": 108,
   "metadata": {
    "collapsed": false
   },
   "outputs": [
    {
     "data": {
      "text/plain": [
       "{}"
      ]
     },
     "execution_count": 108,
     "metadata": {},
     "output_type": "execute_result"
    }
   ],
   "source": [
    "mem2.__dict__"
   ]
  },
  {
   "cell_type": "code",
   "execution_count": 109,
   "metadata": {
    "collapsed": false
   },
   "outputs": [],
   "source": [
    "# 연습문제 1\n",
    "class Point:\n",
    "    def __init__(self, x, y):\n",
    "        self.x = x\n",
    "        self.y = y\n",
    "        \n",
    "    def setx(self, x):\n",
    "        self.x = x\n",
    "        \n",
    "    def sety(self, y):\n",
    "        self.y = y\n",
    "        \n",
    "    def get(self):\n",
    "        return (self.x, self.y)\n",
    "    \n",
    "    def move(self, dx, dy):\n",
    "        self.x += dx\n",
    "        self.y += dy"
   ]
  },
  {
   "cell_type": "code",
   "execution_count": 110,
   "metadata": {
    "collapsed": false
   },
   "outputs": [],
   "source": [
    "# 클래스 생성자이기 때문에 처음에 값을 넣어줘야 한다.\n",
    "a = Point(1,3)"
   ]
  },
  {
   "cell_type": "code",
   "execution_count": 111,
   "metadata": {
    "collapsed": false
   },
   "outputs": [
    {
     "data": {
      "text/plain": [
       "(1, 3)"
      ]
     },
     "execution_count": 111,
     "metadata": {},
     "output_type": "execute_result"
    }
   ],
   "source": [
    "a.get()"
   ]
  },
  {
   "cell_type": "code",
   "execution_count": 112,
   "metadata": {
    "collapsed": true
   },
   "outputs": [],
   "source": [
    "a.setx(3)"
   ]
  },
  {
   "cell_type": "code",
   "execution_count": 113,
   "metadata": {
    "collapsed": true
   },
   "outputs": [],
   "source": [
    "a.sety(4)"
   ]
  },
  {
   "cell_type": "code",
   "execution_count": 114,
   "metadata": {
    "collapsed": false
   },
   "outputs": [
    {
     "data": {
      "text/plain": [
       "(3, 4)"
      ]
     },
     "execution_count": 114,
     "metadata": {},
     "output_type": "execute_result"
    }
   ],
   "source": [
    "a.get()"
   ]
  },
  {
   "cell_type": "code",
   "execution_count": 115,
   "metadata": {
    "collapsed": true
   },
   "outputs": [],
   "source": [
    "a.move(4,5)"
   ]
  },
  {
   "cell_type": "code",
   "execution_count": 116,
   "metadata": {
    "collapsed": false
   },
   "outputs": [
    {
     "data": {
      "text/plain": [
       "(7, 9)"
      ]
     },
     "execution_count": 116,
     "metadata": {},
     "output_type": "execute_result"
    }
   ],
   "source": [
    "a.get()"
   ]
  },
  {
   "cell_type": "markdown",
   "metadata": {},
   "source": [
    "## 파이썬 클래스 이해하기 - 2"
   ]
  },
  {
   "cell_type": "code",
   "execution_count": 117,
   "metadata": {
    "collapsed": true
   },
   "outputs": [],
   "source": [
    "# 클래스 변수는 자주 사용하지는 않는다\n",
    "# 다만 각각 객체가 공유가 필요할 때 아주 가끔 필요하다!"
   ]
  },
  {
   "cell_type": "code",
   "execution_count": 118,
   "metadata": {
    "collapsed": true
   },
   "outputs": [],
   "source": [
    "# 노래 잘하는 클래스\n",
    "class Parent:\n",
    "    def can_sing(self):\n",
    "        print(\"Sing a song\")"
   ]
  },
  {
   "cell_type": "code",
   "execution_count": 119,
   "metadata": {
    "collapsed": true
   },
   "outputs": [],
   "source": [
    "father = Parent()"
   ]
  },
  {
   "cell_type": "code",
   "execution_count": 120,
   "metadata": {
    "collapsed": false
   },
   "outputs": [
    {
     "name": "stdout",
     "output_type": "stream",
     "text": [
      "Sing a song\n"
     ]
    }
   ],
   "source": [
    "father.can_sing()"
   ]
  },
  {
   "cell_type": "code",
   "execution_count": 121,
   "metadata": {
    "collapsed": true
   },
   "outputs": [],
   "source": [
    "# 운이 좋은 자식 클래스 - 자기 자신은 아무 능력이 없음\n",
    "class LuckyShinyougsoon(Parent):\n",
    "    pass"
   ]
  },
  {
   "cell_type": "code",
   "execution_count": 122,
   "metadata": {
    "collapsed": true
   },
   "outputs": [],
   "source": [
    "child1 = LuckyShinyougsoon()"
   ]
  },
  {
   "cell_type": "code",
   "execution_count": 123,
   "metadata": {
    "collapsed": false
   },
   "outputs": [
    {
     "name": "stdout",
     "output_type": "stream",
     "text": [
      "Sing a song\n"
     ]
    }
   ],
   "source": [
    "# 대박!!\n",
    "child1.can_sing()"
   ]
  },
  {
   "cell_type": "code",
   "execution_count": 124,
   "metadata": {
    "collapsed": true
   },
   "outputs": [],
   "source": [
    "# 운이 좋은 자식 클래스2\n",
    "class LuckyChild2(Parent):\n",
    "    def can_dance(self):\n",
    "        print(\"Shuffle Dance\")"
   ]
  },
  {
   "cell_type": "code",
   "execution_count": 125,
   "metadata": {
    "collapsed": true
   },
   "outputs": [],
   "source": [
    "child2 = LuckyChild2()"
   ]
  },
  {
   "cell_type": "code",
   "execution_count": 126,
   "metadata": {
    "collapsed": false
   },
   "outputs": [
    {
     "name": "stdout",
     "output_type": "stream",
     "text": [
      "Sing a song\n"
     ]
    }
   ],
   "source": [
    "child2.can_sing()"
   ]
  },
  {
   "cell_type": "code",
   "execution_count": 127,
   "metadata": {
    "collapsed": false
   },
   "outputs": [
    {
     "name": "stdout",
     "output_type": "stream",
     "text": [
      "Shuffle Dance\n"
     ]
    }
   ],
   "source": [
    "child2.can_dance()"
   ]
  },
  {
   "cell_type": "code",
   "execution_count": 128,
   "metadata": {
    "collapsed": true
   },
   "outputs": [],
   "source": [
    "# 연습문제1\n",
    "class Stock:\n",
    "    market = \"kospi\""
   ]
  },
  {
   "cell_type": "code",
   "execution_count": 129,
   "metadata": {
    "collapsed": true
   },
   "outputs": [],
   "source": [
    "a = Stock()"
   ]
  },
  {
   "cell_type": "code",
   "execution_count": 130,
   "metadata": {
    "collapsed": true
   },
   "outputs": [],
   "source": [
    "b = Stock()"
   ]
  },
  {
   "cell_type": "code",
   "execution_count": 131,
   "metadata": {
    "collapsed": true
   },
   "outputs": [],
   "source": [
    "# 연습문제2"
   ]
  },
  {
   "cell_type": "code",
   "execution_count": 132,
   "metadata": {
    "collapsed": false
   },
   "outputs": [
    {
     "data": {
      "text/plain": [
       "'kospi'"
      ]
     },
     "execution_count": 132,
     "metadata": {},
     "output_type": "execute_result"
    }
   ],
   "source": [
    "a.market"
   ]
  },
  {
   "cell_type": "code",
   "execution_count": 133,
   "metadata": {
    "collapsed": false
   },
   "outputs": [
    {
     "data": {
      "text/plain": [
       "'kospi'"
      ]
     },
     "execution_count": 133,
     "metadata": {},
     "output_type": "execute_result"
    }
   ],
   "source": [
    "b.market"
   ]
  },
  {
   "cell_type": "code",
   "execution_count": 134,
   "metadata": {
    "collapsed": false
   },
   "outputs": [
    {
     "data": {
      "text/plain": [
       "'kospi'"
      ]
     },
     "execution_count": 134,
     "metadata": {},
     "output_type": "execute_result"
    }
   ],
   "source": [
    "Stock.market"
   ]
  },
  {
   "cell_type": "code",
   "execution_count": 135,
   "metadata": {
    "collapsed": true
   },
   "outputs": [],
   "source": [
    "a.market = \"kosdaq\""
   ]
  },
  {
   "cell_type": "code",
   "execution_count": 136,
   "metadata": {
    "collapsed": true
   },
   "outputs": [],
   "source": [
    "b.market = \"nasdaq\""
   ]
  },
  {
   "cell_type": "code",
   "execution_count": 137,
   "metadata": {
    "collapsed": false
   },
   "outputs": [
    {
     "data": {
      "text/plain": [
       "'kosdaq'"
      ]
     },
     "execution_count": 137,
     "metadata": {},
     "output_type": "execute_result"
    }
   ],
   "source": [
    "a.market"
   ]
  },
  {
   "cell_type": "code",
   "execution_count": 138,
   "metadata": {
    "collapsed": false
   },
   "outputs": [
    {
     "data": {
      "text/plain": [
       "'nasdaq'"
      ]
     },
     "execution_count": 138,
     "metadata": {},
     "output_type": "execute_result"
    }
   ],
   "source": [
    "b.market"
   ]
  },
  {
   "cell_type": "code",
   "execution_count": 139,
   "metadata": {
    "collapsed": false
   },
   "outputs": [
    {
     "data": {
      "text/plain": [
       "'kospi'"
      ]
     },
     "execution_count": 139,
     "metadata": {},
     "output_type": "execute_result"
    }
   ],
   "source": [
    "Stock.market"
   ]
  },
  {
   "cell_type": "code",
   "execution_count": 140,
   "metadata": {
    "collapsed": true
   },
   "outputs": [],
   "source": [
    "# 연습문제3은 skip"
   ]
  },
  {
   "cell_type": "code",
   "execution_count": 141,
   "metadata": {
    "collapsed": true
   },
   "outputs": [],
   "source": [
    "# 연습문제4\n",
    "class Car:\n",
    "    def __init__(self, maker, model, year, month, kilo):\n",
    "        self.maker = maker\n",
    "        self.model = model\n",
    "        self.year = year\n",
    "        self.month = month\n",
    "        self.kilo = kilo\n",
    "        \n",
    "    def increase_kilometer(self, kilo):\n",
    "        self.kilo += kilo"
   ]
  },
  {
   "cell_type": "code",
   "execution_count": 142,
   "metadata": {
    "collapsed": true
   },
   "outputs": [],
   "source": [
    "# 연습문제5\n",
    "class Student:\n",
    "    def __init__(self, name, grade, major, toeic):\n",
    "        self.name = name\n",
    "        self.grade = grade\n",
    "        self.major = major\n",
    "        self.toeic = toeic\n",
    "    \n",
    "    def set_name(self, name):\n",
    "        self.name = name\n",
    "    \n",
    "    def set_grade(self, grade):\n",
    "        self.grade = grade\n",
    "        \n",
    "    def set_major(self, major):\n",
    "        self.major = major\n",
    "        \n",
    "    def set_toeic(self, toeic):\n",
    "        self.toeic = toeic\n",
    "        \n",
    "    def get_name(self, name):\n",
    "        print(self.name)\n",
    "        \n",
    "    def get_grade(self, grade):\n",
    "        return self.grade\n",
    "        \n",
    "    def get_major(self, major):\n",
    "        return self.major\n",
    "        \n",
    "    def get_toeic(self, toeic):\n",
    "        return self.toeic"
   ]
  },
  {
   "cell_type": "code",
   "execution_count": 143,
   "metadata": {
    "collapsed": false
   },
   "outputs": [],
   "source": [
    "s1 = Student(\"Younsoon\", \"A\", \"Law\", 680)\n",
    "s2 = Student(\"Ayeon\", \"S\", \"Physics\", 890)"
   ]
  },
  {
   "cell_type": "markdown",
   "metadata": {},
   "source": [
    "## 파이썬 파일 다루기"
   ]
  },
  {
   "cell_type": "code",
   "execution_count": 144,
   "metadata": {
    "collapsed": false,
    "scrolled": false
   },
   "outputs": [],
   "source": [
    "# 바탕화면에 있어요. 바탕화면을 기준으로 합니다.\n",
    "# 중간에 sinbi는 제 user 이름이고요. 이 부분은 본은 유저명으로 변경\n",
    "f = open('C:\\\\Users\\\\Sinbi\\\\Desktop\\\\buy_list.txt', 'rt')"
   ]
  },
  {
   "cell_type": "code",
   "execution_count": 145,
   "metadata": {
    "collapsed": true
   },
   "outputs": [],
   "source": [
    "# 데이터 읽기\n",
    "lines = f.readlines()"
   ]
  },
  {
   "cell_type": "code",
   "execution_count": 146,
   "metadata": {
    "collapsed": false
   },
   "outputs": [
    {
     "name": "stdout",
     "output_type": "stream",
     "text": [
      "[]\n"
     ]
    }
   ],
   "source": [
    "print(lines)"
   ]
  },
  {
   "cell_type": "code",
   "execution_count": 147,
   "metadata": {
    "collapsed": false
   },
   "outputs": [],
   "source": [
    "for item in lines:\n",
    "    print(item)"
   ]
  },
  {
   "cell_type": "code",
   "execution_count": 148,
   "metadata": {
    "collapsed": false
   },
   "outputs": [],
   "source": [
    "for item in lines:\n",
    "    item = item.replace('\\n', '')\n",
    "    print(item)"
   ]
  },
  {
   "cell_type": "code",
   "execution_count": 149,
   "metadata": {
    "collapsed": true
   },
   "outputs": [],
   "source": [
    "f.close()"
   ]
  },
  {
   "cell_type": "code",
   "execution_count": 150,
   "metadata": {
    "collapsed": false
   },
   "outputs": [],
   "source": [
    "# 파이썬으로 파일 쓰기\n",
    "f = open('C:\\\\Users\\\\Sinbi\\\\Desktop\\\\sell_list.txt', 'wt',\\\n",
    "        encoding=\"utf-8\")"
   ]
  },
  {
   "cell_type": "code",
   "execution_count": 151,
   "metadata": {
    "collapsed": false
   },
   "outputs": [
    {
     "data": {
      "text/plain": [
       "5"
      ]
     },
     "execution_count": 151,
     "metadata": {},
     "output_type": "execute_result"
    }
   ],
   "source": [
    "f.write('삼성전자\\n')"
   ]
  },
  {
   "cell_type": "code",
   "execution_count": 152,
   "metadata": {
    "collapsed": true
   },
   "outputs": [],
   "source": [
    "f.close()"
   ]
  },
  {
   "cell_type": "code",
   "execution_count": 153,
   "metadata": {
    "collapsed": true
   },
   "outputs": [],
   "source": [
    "# csv 모듈 이용\n",
    "import csv"
   ]
  },
  {
   "cell_type": "code",
   "execution_count": 154,
   "metadata": {
    "collapsed": false
   },
   "outputs": [],
   "source": [
    "f = open(\"C:\\\\Deposit\\\\Study\\\n",
    "\\\\Finance_data_analysis_study\\\\week03_r0\\\n",
    "\\\\lab03\\class-4 (file)\\\\miraeasset.csv\", 'rt')"
   ]
  },
  {
   "cell_type": "code",
   "execution_count": 155,
   "metadata": {
    "collapsed": true
   },
   "outputs": [],
   "source": [
    "reader = csv.reader(f)"
   ]
  },
  {
   "cell_type": "code",
   "execution_count": 156,
   "metadata": {
    "collapsed": true
   },
   "outputs": [],
   "source": [
    "lines = list(reader)"
   ]
  },
  {
   "cell_type": "code",
   "execution_count": 157,
   "metadata": {
    "collapsed": false,
    "scrolled": true
   },
   "outputs": [
    {
     "name": "stdout",
     "output_type": "stream",
     "text": [
      "['일자', '시가', '고가', '저가', '종가']\n",
      "['17.06.05', '9,440', '9,480', '9,310', '9,380']\n",
      "['17.06.02', '9,320', '9,450', '9,320', '9,410']\n",
      "['17.06.01', '9,450', '9,480', '9,240', '9,270']\n",
      "['17.05.31', '9,660', '9,660', '9,500', '9,500']\n",
      "['17.05.30', '9,640', '9,820', '9,550', '9,710']\n"
     ]
    }
   ],
   "source": [
    "for line in lines:\n",
    "    print(line)"
   ]
  },
  {
   "cell_type": "code",
   "execution_count": 158,
   "metadata": {
    "collapsed": false
   },
   "outputs": [
    {
     "name": "stdout",
     "output_type": "stream",
     "text": [
      "9,380\n",
      "9,410\n",
      "9,270\n",
      "9,500\n",
      "9,710\n"
     ]
    }
   ],
   "source": [
    "# 위에 한글 이름은 삭제해 볼까?\n",
    "for line in lines[1:]:\n",
    "    print(line[4])"
   ]
  },
  {
   "cell_type": "code",
   "execution_count": 159,
   "metadata": {
    "collapsed": true
   },
   "outputs": [],
   "source": [
    "f.close()"
   ]
  },
  {
   "cell_type": "code",
   "execution_count": 160,
   "metadata": {
    "collapsed": true
   },
   "outputs": [],
   "source": [
    "# csv파일 쓰기\n",
    "import csv"
   ]
  },
  {
   "cell_type": "code",
   "execution_count": 161,
   "metadata": {
    "collapsed": true
   },
   "outputs": [],
   "source": [
    "f = open('C:\\\\Users\\\\Sinbi\\\\Desktop\\\\test.csv', 'w',\\\n",
    "        newline='')"
   ]
  },
  {
   "cell_type": "code",
   "execution_count": 162,
   "metadata": {
    "collapsed": false
   },
   "outputs": [],
   "source": [
    "writer = csv.writer(f)"
   ]
  },
  {
   "cell_type": "code",
   "execution_count": 163,
   "metadata": {
    "collapsed": false,
    "scrolled": true
   },
   "outputs": [
    {
     "data": {
      "text/plain": [
       "21"
      ]
     },
     "execution_count": 163,
     "metadata": {},
     "output_type": "execute_result"
    }
   ],
   "source": [
    "writer.writerow(['open','high','low','close'])"
   ]
  },
  {
   "cell_type": "code",
   "execution_count": 164,
   "metadata": {
    "collapsed": false
   },
   "outputs": [
    {
     "data": {
      "text/plain": [
       "16"
      ]
     },
     "execution_count": 164,
     "metadata": {},
     "output_type": "execute_result"
    }
   ],
   "source": [
    "writer.writerow([100,200,80,150])"
   ]
  },
  {
   "cell_type": "code",
   "execution_count": 165,
   "metadata": {
    "collapsed": false
   },
   "outputs": [
    {
     "data": {
      "text/plain": [
       "15"
      ]
     },
     "execution_count": 165,
     "metadata": {},
     "output_type": "execute_result"
    }
   ],
   "source": [
    "writer.writerow([90,150,80,130])"
   ]
  },
  {
   "cell_type": "code",
   "execution_count": 166,
   "metadata": {
    "collapsed": true
   },
   "outputs": [],
   "source": [
    "f.close()"
   ]
  },
  {
   "cell_type": "code",
   "execution_count": 167,
   "metadata": {
    "collapsed": true
   },
   "outputs": [],
   "source": [
    "# 연습문제 풀이\n",
    "import csv\n",
    "f = open(\"C:\\\\Deposit\\\\Study\\\n",
    "\\\\Finance_data_analysis_study\\\\week03_r0\\\n",
    "\\\\lab03\\class-4 (file)\\\\miraeasset.csv\", 'rt')"
   ]
  },
  {
   "cell_type": "code",
   "execution_count": 168,
   "metadata": {
    "collapsed": false
   },
   "outputs": [],
   "source": [
    "reader = csv.reader(f)\n",
    "lines = list(reader)"
   ]
  },
  {
   "cell_type": "code",
   "execution_count": 169,
   "metadata": {
    "collapsed": false
   },
   "outputs": [
    {
     "name": "stdout",
     "output_type": "stream",
     "text": [
      "[['일자', '시가', '고가', '저가', '종가'], ['17.06.05', '9,440', '9,480', '9,310', '9,380'], ['17.06.02', '9,320', '9,450', '9,320', '9,410'], ['17.06.01', '9,450', '9,480', '9,240', '9,270'], ['17.05.31', '9,660', '9,660', '9,500', '9,500'], ['17.05.30', '9,640', '9,820', '9,550', '9,710']]\n"
     ]
    }
   ],
   "source": [
    "print(lines)"
   ]
  },
  {
   "cell_type": "code",
   "execution_count": 170,
   "metadata": {
    "collapsed": false,
    "scrolled": true
   },
   "outputs": [
    {
     "name": "stdout",
     "output_type": "stream",
     "text": [
      "종가\n",
      "9,380\n",
      "9,410\n",
      "9,270\n",
      "9,500\n",
      "9,710\n"
     ]
    }
   ],
   "source": [
    "for line in lines:\n",
    "    print(line[4])"
   ]
  },
  {
   "cell_type": "code",
   "execution_count": 171,
   "metadata": {
    "collapsed": false
   },
   "outputs": [
    {
     "name": "stdout",
     "output_type": "stream",
     "text": [
      "9,380\n",
      "9,410\n",
      "9,270\n",
      "9,500\n",
      "9,710\n"
     ]
    }
   ],
   "source": [
    "for line in lines[1:]:\n",
    "    print(line[4])"
   ]
  },
  {
   "cell_type": "code",
   "execution_count": 172,
   "metadata": {
    "collapsed": false,
    "scrolled": true
   },
   "outputs": [],
   "source": [
    "# 문제 1\n",
    "close_price = []\n",
    "for line in lines[1:]:\n",
    "    price = int(line[4].replace(',',''))\n",
    "    close_price.append(price)"
   ]
  },
  {
   "cell_type": "code",
   "execution_count": 173,
   "metadata": {
    "collapsed": false
   },
   "outputs": [
    {
     "data": {
      "text/plain": [
       "9270"
      ]
     },
     "execution_count": 173,
     "metadata": {},
     "output_type": "execute_result"
    }
   ],
   "source": [
    "min(close_price)"
   ]
  },
  {
   "cell_type": "code",
   "execution_count": 174,
   "metadata": {
    "collapsed": false
   },
   "outputs": [
    {
     "data": {
      "text/plain": [
       "9710"
      ]
     },
     "execution_count": 174,
     "metadata": {},
     "output_type": "execute_result"
    }
   ],
   "source": [
    "max(close_price)"
   ]
  },
  {
   "cell_type": "code",
   "execution_count": 175,
   "metadata": {
    "collapsed": false
   },
   "outputs": [
    {
     "name": "stdout",
     "output_type": "stream",
     "text": [
      "9270 9710\n"
     ]
    }
   ],
   "source": [
    "print(min(close_price), max(close_price))"
   ]
  },
  {
   "cell_type": "code",
   "execution_count": 176,
   "metadata": {
    "collapsed": true
   },
   "outputs": [],
   "source": [
    "f.close()"
   ]
  },
  {
   "cell_type": "code",
   "execution_count": 177,
   "metadata": {
    "collapsed": true
   },
   "outputs": [],
   "source": [
    "# 연습문제2\n",
    "import csv\n",
    "f = open(\"C:\\\\Deposit\\\\Study\\\n",
    "\\\\Finance_data_analysis_study\\\\week03_r0\\\n",
    "\\\\lab03\\class-4 (file)\\\\miraeasset.csv\", 'rt')\n",
    "reader = csv.reader(f)\n",
    "lines = list(reader)"
   ]
  },
  {
   "cell_type": "code",
   "execution_count": 178,
   "metadata": {
    "collapsed": false
   },
   "outputs": [
    {
     "name": "stdout",
     "output_type": "stream",
     "text": [
      "['일자', '시가', '고가', '저가', '종가']\n",
      "['17.06.05', '9,440', '9,480', '9,310', '9,380']\n",
      "['17.06.02', '9,320', '9,450', '9,320', '9,410']\n",
      "['17.06.01', '9,450', '9,480', '9,240', '9,270']\n",
      "['17.05.31', '9,660', '9,660', '9,500', '9,500']\n",
      "['17.05.30', '9,640', '9,820', '9,550', '9,710']\n"
     ]
    }
   ],
   "source": [
    "# 시가를 찾자\n",
    "for line in lines:\n",
    "    print(line)"
   ]
  },
  {
   "cell_type": "code",
   "execution_count": 179,
   "metadata": {
    "collapsed": false
   },
   "outputs": [
    {
     "name": "stdout",
     "output_type": "stream",
     "text": [
      "['일자', '시가']\n",
      "['17.06.05', '9,440']\n",
      "['17.06.02', '9,320']\n",
      "['17.06.01', '9,450']\n",
      "['17.05.31', '9,660']\n",
      "['17.05.30', '9,640']\n"
     ]
    }
   ],
   "source": [
    "for line in lines:\n",
    "    print(line[0:2])"
   ]
  },
  {
   "cell_type": "code",
   "execution_count": 180,
   "metadata": {
    "collapsed": false
   },
   "outputs": [
    {
     "name": "stdout",
     "output_type": "stream",
     "text": [
      "일자\n",
      "17.06.05\n",
      "17.06.02\n",
      "17.06.01\n",
      "17.05.31\n",
      "17.05.30\n"
     ]
    }
   ],
   "source": [
    "for line in lines:\n",
    "    print(line[0])"
   ]
  },
  {
   "cell_type": "code",
   "execution_count": 181,
   "metadata": {
    "collapsed": false
   },
   "outputs": [
    {
     "name": "stdout",
     "output_type": "stream",
     "text": [
      "시가\n",
      "9,440\n",
      "9,320\n",
      "9,450\n",
      "9,660\n",
      "9,640\n"
     ]
    }
   ],
   "source": [
    "for line in lines:\n",
    "    print(line[1])"
   ]
  },
  {
   "cell_type": "code",
   "execution_count": 182,
   "metadata": {
    "collapsed": false
   },
   "outputs": [],
   "source": [
    "# 쌍으로 역어서 해야 하니까 딕트로\n",
    "price = {}\n",
    "for line in lines[1:]:\n",
    "    date = line[0]\n",
    "    open_price = int(line[1].replace(',',''))\n",
    "    price[date] = open_price"
   ]
  },
  {
   "cell_type": "markdown",
   "metadata": {},
   "source": [
    "## 파이썬 프로젝트"
   ]
  },
  {
   "cell_type": "code",
   "execution_count": 183,
   "metadata": {
    "collapsed": false
   },
   "outputs": [],
   "source": [
    "import csv\n",
    "f = open(\"C:\\\\Deposit\\\\Study\\\n",
    "\\\\Finance_data_analysis_study\\\\week03_r0\\\n",
    "\\\\lab03\\class-4 (file)\\\\miraeasset.csv\", 'rt')\n",
    "reader = csv.reader(f)\n",
    "lines = list(reader)\n",
    "f.close()"
   ]
  },
  {
   "cell_type": "code",
   "execution_count": 184,
   "metadata": {
    "collapsed": true
   },
   "outputs": [],
   "source": [
    "# 함수 정의\n",
    "def get_column_from_csv(excel_file):\n",
    "    f = open(excel_file)\n",
    "    reader = csv.reader(f)\n",
    "    lines = list(reader)\n",
    "    print(lines)\n",
    "    f.close()"
   ]
  },
  {
   "cell_type": "code",
   "execution_count": 185,
   "metadata": {
    "collapsed": false
   },
   "outputs": [
    {
     "name": "stdout",
     "output_type": "stream",
     "text": [
      "[['일자', '시가', '고가', '저가', '종가', '전일비', '', '등락률', '거래량', '금액(백만)', '신용비'], ['2017/02/10', '52,000', '52,200', '50,000', '50,000', '▼', '-2,700', '-5.12', '9,120,878', '465,449', '0.24'], ['2017/02/09', '53,100', '53,700', '52,500', '52,700', '▼', '-1,900', '-3.48', '6,547,266', '347,820', '0.24'], ['2017/02/08', '53,700', '54,600', '52,400', '54,600', '▲', '1,300', '+2.44', '3,552,260', '190,289', '0.23'], ['2017/02/07', '53,800', '54,500', '53,100', '53,300', '▼', '-400', '-0.74', '2,405,891', '129,381', '0.23'], ['2017/02/06', '54,200', '54,400', '53,300', '53,700', ' ', '0', '0', '1,897,002', '102,086', '0.23'], ['2017/02/03', '52,500', '53,700', '51,800', '53,700', '▲', '900', '+1.70', '3,718,619', '196,280', '0.22'], ['2017/02/02', '53,500', '54,000', '52,700', '52,800', '▼', '-1,200', '-2.22', '3,486,140', '185,564', '0.22'], ['2017/02/01', '54,300', '54,900', '53,700', '54,000', '▲', '300', '+0.56', '2,813,046', '152,599', '0.23'], ['2017/01/31', '53,300', '54,500', '52,700', '53,700', '▲', '400', '+0.75', '4,118,790', '221,429', '0.26'], ['2017/01/26', '52,500', '53,500', '52,400', '53,300', '▲', '1,600', '+3.09', '4,517,114', '239,592', '0.25'], ['2017/01/25', '52,200', '52,500', '51,600', '51,700', '▲', '100', '+0.19', '2,715,809', '141,446', '0.26'], ['2017/01/24', '51,300', '52,000', '51,100', '51,600', '▲', '800', '+1.57', '3,449,130', '177,617', '0.25'], ['2017/01/23', '49,950', '51,000', '49,900', '50,800', '▲', '1,650', '+3.36', '4,148,659', '209,753', '0.24'], ['2017/01/20', '49,700', '50,100', '49,150', '49,150', '▼', '-450', '-0.91', '1,943,195', '96,154', '0.25'], ['2017/01/19', '49,550', '50,100', '49,100', '49,600', '▲', '750', '+1.54', '2,332,268', '115,611', '0.24'], ['2017/01/18', '48,950', '49,400', '48,300', '48,850', '▼', '-450', '-0.91', '2,974,091', '144,988', '0.24'], ['2017/01/17', '49,300', '50,200', '49,250', '49,300', ' ', '0', '0', '2,309,955', '114,605', '0.21'], ['2017/01/16', '50,100', '50,300', '48,800', '49,300', '▼', '-1,000', '-1.99', '4,974,924', '245,391', '0.20'], ['2017/01/13', '49,850', '50,700', '49,850', '50,300', '▼', '-300', '-0.59', '4,219,771', '211,613', '0.19'], ['2017/01/12', '51,600', '51,600', '50,400', '50,600', '▼', '-1,000', '-1.94', '5,060,622', '256,710', '0.17'], ['2017/01/11', '50,000', '51,900', '50,000', '51,600', '▲', '1,850', '+3.72', '4,360,058', '223,584', '0.17'], ['2017/01/10', '49,850', '50,200', '49,200', '49,750', '▲', '200', '+0.40', '2,561,968', '127,213', '0.16'], ['2017/01/09', '48,500', '49,750', '48,200', '49,550', '▲', '1,550', '+3.23', '3,871,999', '191,236', '0.18'], ['2017/01/06', '47,700', '48,450', '47,600', '48,000', '▲', '1,050', '+2.24', '3,166,843', '152,264', '0.17'], ['2017/01/05', '47,000', '47,500', '46,850', '46,950', '▲', '450', '+0.97', '2,377,163', '112,240', '0.17'], ['2017/01/04', '47,000', '47,150', '46,200', '46,500', '▼', '-750', '-1.59', '2,722,599', '127,044', '0.18'], ['2017/01/03', '46,200', '47,300', '46,200', '47,250', '▲', '1,450', '+3.17', '2,655,477', '124,284', '0.18'], ['2017/01/02', '44,750', '46,000', '44,600', '45,800', '▲', '1,100', '+2.46', '1,547,681', '70,741', '0.18'], ['2016/12/29', '45,150', '45,200', '44,600', '44,700', '▼', '-650', '-1.43', '1,808,856', '81,024', '0.17'], ['2016/12/28', '45,350', '45,750', '45,100', '45,350', '▼', '-300', '-0.66', '1,296,254', '58,863', '0.18'], ['2016/12/27', '45,550', '45,950', '45,400', '45,650', ' ', '0', '0', '1,175,619', '53,721', '0.16'], ['2016/12/26', '46,200', '46,600', '45,250', '45,650', '▼', '-650', '-1.40', '1,603,230', '73,415', '0.17'], ['2016/12/23', '46,200', '46,400', '45,950', '46,300', '▲', '800', '+1.76', '2,982,024', '137,863', '0.18'], ['2016/12/22', '46,000', '46,650', '45,150', '45,500', '▲', '500', '+1.11', '4,045,912', '185,844', '0.17'], ['2016/12/21', '45,500', '45,750', '45,000', '45,000', '▼', '-150', '-0.33', '1,662,010', '75,460', '0.17'], ['2016/12/20', '45,400', '45,550', '44,950', '45,150', ' ', '0', '0', '1,110,753', '50,221', '0.15'], ['2016/12/19', '46,250', '46,300', '45,050', '45,150', '▼', '-1,250', '-2.69', '1,997,194', '90,997', '0.16'], ['2016/12/16', '45,800', '46,450', '45,700', '46,400', '▲', '800', '+1.75', '2,100,809', '97,050', '0.15'], ['2016/12/15', '45,850', '46,050', '45,000', '45,600', '▼', '-250', '-0.55', '1,828,843', '83,217', '0.15'], ['2016/12/14', '45,350', '46,100', '45,350', '45,850', '▲', '900', '+2.00', '2,010,708', '92,038', '0.15'], ['2016/12/13', '44,700', '45,700', '44,700', '44,950', '▼', '-350', '-0.77', '1,822,952', '82,213', '0.14'], ['2016/12/12', '45,750', '45,850', '44,850', '45,300', '▼', '-200', '-0.44', '1,440,589', '65,348', '0.14'], ['2016/12/09', '46,450', '46,750', '45,450', '45,500', '▼', '-750', '-1.62', '3,003,326', '137,771', '0.14'], ['2016/12/08', '46,200', '46,650', '46,100', '46,250', '▲', '1,000', '+2.21', '3,313,157', '153,631', '0.14'], ['2016/12/07', '45,750', '45,800', '45,200', '45,250', '▲', '50', '+0.11', '1,984,369', '90,333', '0.15'], ['2016/12/06', '44,700', '45,500', '44,600', '45,200', '▲', '800', '+1.80', '3,099,065', '140,049', '0.15'], ['2016/12/05', '44,050', '44,600', '43,800', '44,400', ' ', '0', '0', '1,703,219', '75,594', '0.17'], ['2016/12/02', '43,350', '44,500', '43,300', '44,400', '▲', '200', '+0.45', '4,244,113', '186,230', '0.17'], ['2016/12/01', '43,000', '44,400', '43,000', '44,200', '▲', '1,300', '+3.03', '3,491,185', '153,723', '0.17'], ['2016/11/30', '42,900', '43,800', '42,650', '42,900', '▲', '500', '+1.18', '4,325,524', '187,138', '0.16'], ['2016/11/29', '42,400', '43,100', '41,800', '42,400', '▼', '-200', '-0.47', '1,777,480', '75,306', '0.16'], ['2016/11/28', '42,400', '43,250', '42,100', '42,600', ' ', '0', '0', '1,513,215', '64,738', '0.15'], ['2016/11/25', '43,050', '43,300', '42,250', '42,600', '▼', '-50', '-0.12', '1,328,958', '56,728', '0.15'], ['2016/11/24', '43,350', '43,850', '42,500', '42,650', '▼', '-400', '-0.93', '1,789,745', '77,021', '0.16'], ['2016/11/23', '43,000', '43,900', '42,550', '43,050', '▲', '350', '+0.82', '4,047,443', '175,818', '0.17'], ['2016/11/22', '41,250', '42,800', '41,200', '42,700', '▲', '1,950', '+4.79', '3,306,186', '139,712', '0.16'], ['2016/11/21', '41,800', '41,900', '40,650', '40,750', '▼', '-1,250', '-2.98', '1,883,627', '77,739', '0.16'], ['2016/11/18', '42,300', '42,400', '41,700', '42,000', '▲', '100', '+0.24', '3,331,134', '139,965', '0.18'], ['2016/11/17', '41,500', '41,900', '41,200', '41,900', '▲', '1,050', '+2.57', '2,383,464', '99,049', '0.19'], ['2016/11/16', '40,450', '41,000', '40,250', '40,850', '▲', '1,150', '+2.90', '2,101,878', '85,708', '0.19'], ['2016/11/15', '39,700', '40,400', '39,500', '39,700', ' ', '0', '0', '2,030,086', '81,123', '0.18'], ['2016/11/14', '40,000', '40,450', '39,700', '39,700', '▼', '-150', '-0.38', '1,589,911', '63,440', '0.17'], ['2016/11/11', '40,000', '40,450', '39,550', '39,850', '▼', '-1,150', '-2.80', '2,962,651', '118,381', '0.18'], ['2016/11/10', '41,000', '41,050', '40,500', '41,000', '▲', '1,350', '+3.40', '2,520,434', '102,927', '0.18'], ['2016/11/09', '41,650', '41,750', '38,700', '39,650', '▼', '-1,850', '-4.46', '5,779,291', '231,022', '0.18'], ['2016/11/08', '42,100', '42,150', '41,250', '41,500', ' ', '0', '0', '1,882,987', '78,310', '0.17'], ['2016/11/07', '41,800', '42,050', '41,200', '41,500', '▲', '300', '+0.73', '2,033,220', '84,599', '0.17'], ['2016/11/04', '41,150', '41,400', '40,850', '41,200', '▲', '50', '+0.12', '2,600,930', '107,062', '0.17'], ['2016/11/03', '40,900', '41,700', '40,700', '41,150', '▲', '150', '+0.37', '2,580,396', '106,289', '0.17'], ['2016/11/02', '41,250', '41,400', '40,450', '41,000', '▼', '-1,000', '-2.38', '2,822,651', '115,327', '0.18'], ['2016/11/01', '41,700', '42,350', '41,600', '42,000', '▲', '1,000', '+2.44', '3,173,446', '132,958', '0.16'], ['2016/10/31', '42,500', '42,900', '41,000', '41,000', '▼', '-1,450', '-3.42', '3,297,943', '136,815', '0.17'], ['2016/10/28', '42,700', '42,950', '42,100', '42,450', '▼', '-550', '-1.28', '2,251,179', '95,818', '0.18'], ['2016/10/27', '42,900', '43,600', '42,600', '43,000', '▲', '100', '+0.23', '4,814,197', '207,336', '0.20'], ['2016/10/26', '41,300', '42,900', '41,300', '42,900', '▲', '1,850', '+4.51', '6,364,037', '268,157', '0.21'], ['2016/10/25', '40,350', '41,650', '40,200', '41,050', '▲', '900', '+2.24', '4,469,224', '183,528', '0.21'], ['2016/10/24', '41,000', '41,150', '39,850', '40,150', '▼', '-800', '-1.95', '2,211,109', '89,073', '0.22'], ['2016/10/21', '39,500', '41,000', '39,500', '40,950', '▲', '900', '+2.25', '2,436,212', '98,732', '0.21'], ['2016/10/20', '40,250', '40,300', '38,850', '40,050', ' ', '0', '0', '5,423,960', '213,697', '0.20'], ['2016/10/19', '41,150', '41,450', '39,850', '40,050', '▼', '-1,600', '-3.84', '5,033,246', '204,102', '0.19'], ['2016/10/18', '42,200', '42,300', '41,300', '41,650', '▼', '-650', '-1.54', '2,559,222', '106,618', '0.19'], ['2016/10/17', '41,750', '42,300', '41,400', '42,300', '▲', '750', '+1.81', '2,314,725', '96,990', '0.19'], ['2016/10/14', '41,300', '41,900', '41,200', '41,550', '▲', '600', '+1.47', '2,708,972', '112,662', '0.18'], ['2016/10/13', '41,450', '41,700', '40,950', '40,950', '▼', '-300', '-0.73', '3,638,071', '149,801', '0.19'], ['2016/10/12', '41,000', '41,900', '41,000', '41,250', '▼', '-50', '-0.12', '3,521,492', '145,970', '0.19'], ['2016/10/11', '41,300', '42,000', '41,100', '41,300', ' ', '0', '0', '2,810,503', '116,692', '0.17'], ['2016/10/10', '42,200', '42,500', '41,200', '41,300', '▼', '-900', '-2.13', '2,916,252', '121,039', '0.15'], ['2016/10/07', '42,700', '42,700', '41,900', '42,200', '▼', '-350', '-0.82', '2,637,734', '111,081', '0.15'], ['2016/10/06', '43,100', '43,150', '42,400', '42,550', '▼', '-50', '-0.12', '2,815,496', '120,085', '0.17'], ['2016/10/05', '42,150', '42,950', '41,200', '42,600', '▲', '800', '+1.91', '4,387,312', '185,309', '0.17'], ['2016/10/04', '41,500', '41,800', '41,000', '41,800', '▲', '1,600', '+3.98', '3,639,803', '151,061', '0.17'], ['2016/09/30', '39,750', '40,950', '39,600', '40,200', ' ', '0', '0', '3,764,773', '151,918', '0.14'], ['2016/09/29', '40,600', '40,750', '40,150', '40,200', '▼', '-1,000', '-2.43', '3,976,705', '160,555', '0.14'], ['2016/09/28', '41,300', '42,000', '40,950', '41,200', '▲', '50', '+0.12', '4,189,804', '173,738', '0.15'], ['2016/09/27', '39,400', '41,150', '39,150', '41,150', '▲', '1,650', '+4.18', '4,001,505', '161,299', '0.15'], ['2016/09/26', '39,350', '39,500', '38,800', '39,500', '▲', '150', '+0.38', '1,669,862', '65,541', '0.15'], ['2016/09/23', '39,550', '39,650', '39,050', '39,350', '▼', '-50', '-0.13', '2,095,120', '82,684', '0.16'], ['2016/09/22', '39,800', '39,800', '39,150', '39,400', '▲', '250', '+0.64', '3,214,630', '126,956', '0.16'], ['2016/09/21', '39,000', '39,150', '38,650', '39,150', '▼', '-100', '-0.25', '1,731,450', '67,373', '0.16'], ['2016/09/20', '39,200', '39,450', '38,750', '39,250', '▲', '50', '+0.13', '2,594,490', '101,523', '0.18'], ['2016/09/19', '38,700', '39,450', '38,250', '39,200', '▲', '1,400', '+3.70', '5,283,684', '206,504', '0.17'], ['2016/09/13', '37,600', '38,300', '37,500', '37,800', '▲', '800', '+2.16', '3,928,646', '148,813', '0.14'], ['2016/09/12', '37,500', '38,300', '37,000', '37,000', '▼', '-1,950', '-5.01', '4,885,896', '183,553', '0.14'], ['2016/09/09', '38,550', '39,000', '38,350', '38,950', '▲', '250', '+0.65', '2,748,415', '106,339', '0.15'], ['2016/09/08', '37,900', '38,700', '37,900', '38,700', '▲', '800', '+2.11', '3,698,781', '142,604', '0.17'], ['2016/09/07', '38,200', '38,800', '37,900', '37,900', '▼', '-100', '-0.26', '3,786,844', '145,397', '0.18'], ['2016/09/06', '37,750', '38,000', '37,350', '38,000', '▲', '500', '+1.33', '2,123,160', '80,230', '0.19'], ['2016/09/05', '36,900', '37,500', '36,850', '37,500', '▲', '850', '+2.32', '2,337,575', '87,358', '0.19'], ['2016/09/02', '36,100', '36,700', '35,950', '36,650', '▲', '550', '+1.52', '1,828,390', '66,735', '0.19'], ['2016/09/01', '36,400', '36,400', '35,700', '36,100', '▼', '-350', '-0.96', '1,713,669', '61,865', '0.20'], ['2016/08/31', '36,400', '36,450', '35,750', '36,450', '▲', '150', '+0.41', '2,832,970', '102,674', '0.21'], ['2016/08/30', '36,800', '36,950', '35,550', '36,300', '▲', '50', '+0.14', '2,766,460', '100,451', '0.21'], ['2016/08/29', '35,350', '36,400', '35,300', '36,250', ' ', '0', '0', '2,782,441', '100,078', '0.21'], ['2016/08/26', '35,850', '36,350', '35,750', '36,250', '▲', '550', '+1.54', '2,635,343', '95,238', '0.22'], ['2016/08/25', '35,100', '35,750', '34,900', '35,700', '▼', '-50', '-0.14', '1,568,516', '55,480', '0.23'], ['2016/08/24', '35,900', '35,950', '35,300', '35,750', '▲', '150', '+0.42', '1,689,924', '60,274', '0.24'], ['2016/08/23', '36,250', '36,300', '35,550', '35,600', '▼', '-400', '-1.11', '3,014,421', '108,200', '0.25'], ['2016/08/22', '35,500', '36,050', '35,250', '36,000', '▲', '600', '+1.69', '4,149,396', '148,429', '0.27'], ['2016/08/19', '34,400', '35,400', '34,200', '35,400', '▲', '1,250', '+3.66', '4,683,750', '163,891', '0.28'], ['2016/08/18', '33,550', '34,250', '33,550', '34,150', '▲', '600', '+1.79', '1,855,081', '63,027', '0.28'], ['2016/08/17', '33,750', '33,900', '32,900', '33,550', '▼', '-150', '-0.45', '2,083,372', '69,423', '0.26'], ['2016/08/16', '34,950', '34,950', '33,700', '33,700', '▼', '-650', '-1.89', '2,883,043', '98,301', '0.26'], ['2016/08/12', '34,450', '35,100', '34,200', '34,350', '▼', '-450', '-1.29', '2,437,735', '84,131', '0.27'], ['2016/08/11', '33,700', '34,800', '33,450', '34,800', '▲', '1,000', '+2.96', '2,980,478', '102,100', '0.25'], ['2016/08/10', '34,900', '35,000', '33,650', '33,800', '▼', '-1,250', '-3.57', '3,193,311', '108,770', '0.25'], ['2016/08/09', '34,850', '35,200', '34,450', '35,050', '▲', '100', '+0.29', '2,112,078', '73,712', '0.25'], ['2016/08/08', '35,150', '35,250', '34,400', '34,950', '▲', '150', '+0.43', '2,157,854', '75,245', '0.26'], ['2016/08/05', '34,300', '34,900', '33,950', '34,800', '▲', '1,150', '+3.42', '2,830,058', '97,888', '0.26'], ['2016/08/04', '33,950', '34,200', '33,350', '33,650', '▲', '100', '+0.30', '1,477,680', '49,870', '0.25'], ['2016/08/03', '33,300', '34,400', '33,000', '33,550', '▼', '-200', '-0.59', '2,698,841', '90,997', '0.24'], ['2016/08/02', '34,600', '34,700', '33,650', '33,750', '▼', '-1,100', '-3.16', '2,123,735', '72,196', '0.24'], ['2016/08/01', '34,700', '35,300', '34,600', '34,850', '▲', '450', '+1.31', '3,274,413', '114,265', '0.26'], ['2016/07/29', '33,550', '34,400', '33,450', '34,400', '▲', '850', '+2.53', '4,660,512', '159,428', '0.27'], ['2016/07/28', '33,150', '33,550', '33,000', '33,550', '▲', '100', '+0.30', '3,586,965', '119,563', '0.29'], ['2016/07/27', '32,600', '33,450', '32,550', '33,450', '▲', '1,400', '+4.37', '4,762,165', '157,830', '0.29'], ['2016/07/26', '32,400', '32,400', '31,100', '32,050', '▼', '-450', '-1.38', '5,028,045', '159,062', '0.29'], ['2016/07/25', '32,300', '32,650', '32,150', '32,500', '▲', '500', '+1.56', '2,147,590', '69,560', '0.28'], ['2016/07/22', '32,150', '32,150', '31,200', '32,000', '▼', '-150', '-0.47', '2,442,893', '77,259', '0.28'], ['2016/07/21', '32,400', '32,800', '32,100', '32,150', '▲', '50', '+0.16', '1,879,147', '60,792', '0.29'], ['2016/07/20', '32,300', '32,400', '31,850', '32,100', '▼', '-350', '-1.08', '1,775,583', '56,834', '0.28']]\n"
     ]
    }
   ],
   "source": [
    "if __name__ == \"__main__\":\n",
    "    # 함수 호출\n",
    "    get_column_from_csv(\"C:\\\\Deposit\\\\Study\\\n",
    "\\\\Finance_data_analysis_study\\\\week03_r0\\\n",
    "\\\\lab03\\\\moving-average\\\\000660.csv\")\n",
    "#     get_column_from_csv(\"C:\\\\Deposit\\\\Study\\\n",
    "# \\\\Finance_data_analysis_study\\\\week03_r0\\\n",
    "# \\\\lab03\\\\moving-average\\\\000660.csv\")\n",
    "#     get_column_from_csv(\"C:\\\\Deposit\\\\Study\\\n",
    "# \\\\Finance_data_analysis_study\\\\week03_r0\\\n",
    "# \\\\lab03\\\\moving-average\\\\000660.csv\")"
   ]
  },
  {
   "cell_type": "code",
   "execution_count": 186,
   "metadata": {
    "collapsed": true
   },
   "outputs": [],
   "source": [
    "path1 = \"C:\\\\Deposit\\\\Study\\\n",
    "\\\\Finance_data_analysis_study\\\\week03_r0\\\n",
    "\\\\lab03\\\\moving-average\\\\000660.csv\"\n",
    "path2 = \"C:\\\\Deposit\\\\Study\\\n",
    "\\\\Finance_data_analysis_study\\\\week03_r0\\\n",
    "\\\\lab03\\\\moving-average\\\\066570.csv\"\n",
    "path3 = \"C:\\\\Deposit\\\\Study\\\n",
    "\\\\Finance_data_analysis_study\\\\week03_r0\\\n",
    "\\\\lab03\\\\moving-average\\\\136480.csv\""
   ]
  },
  {
   "cell_type": "code",
   "execution_count": 187,
   "metadata": {
    "collapsed": true
   },
   "outputs": [],
   "source": [
    "# 함수 새롭게 정의 즉, 칼럼 제목으로 해당 칼럼 데이터만 뽑기\n",
    "import csv\n",
    "def get_column_from_csv(excel_file, column_name):\n",
    "    f = open(excel_file)\n",
    "    reader = csv.reader(f)\n",
    "    lines = list(reader)\n",
    "    f.close()\n",
    "    \n",
    "    # column_name 값에 대해 정리\n",
    "    col_idx = lines[0].index(column_name)\n",
    "    \n",
    "    # lines 에서 cloumn_name에 해당하는 데이터 뽑아내기\n",
    "    column_list=[]\n",
    "    \n",
    "    for line in lines[1:]:\n",
    "        column = line[col_idx]\n",
    "        column_list.append(column)\n",
    "        \n",
    "    return column_list"
   ]
  },
  {
   "cell_type": "code",
   "execution_count": 188,
   "metadata": {
    "collapsed": false
   },
   "outputs": [
    {
     "name": "stdout",
     "output_type": "stream",
     "text": [
      "['61,800', '60,400', '59,000', '58,900', '58,800', '58,700', '58,500', '55,800', '53,500', '55,000', '54,300', '53,300', '54,100', '54,400', '53,700', '52,800', '52,300', '52,900', '53,100', '52,100', '51,700', '53,100', '52,300', '53,800', '54,000', '54,200', '51,800', '51,800', '51,400', '50,800', '50,900', '49,800', '49,350', '48,200', '47,700', '47,900', '47,800', '47,850', '47,850', '49,100', '48,000', '47,900', '47,600', '47,500', '47,250', '46,100', '46,300', '46,300', '44,700', '45,400', '45,200', '45,750', '46,100', '46,550', '45,900', '46,250', '46,700', '46,900', '46,650', '47,200', '46,100', '47,000', '46,500', '46,400', '48,000', '47,550', '47,600', '47,600', '47,550', '47,150', '47,600', '47,350', '48,850', '50,300', '50,000', '50,900', '50,800', '51,000', '50,400', '50,200', '50,100', '50,500', '50,400', '51,900', '53,700', '51,600', '48,700', '49,400', '48,000', '46,850', '48,200', '48,800', '49,250', '50,100', '49,850', '50,500', '50,200', '50,700', '49,250', '50,100', '49,950', '51,400', '51,800', '51,900', '53,400', '54,200', '53,000', '51,900', '51,500', '52,300', '52,000', '51,600', '52,100', '52,100', '51,400', '51,600', '52,700', '52,300', '53,100', '53,500', '53,200', '53,000', '52,700', '53,100', '53,800', '53,000', '53,700', '52,600', '53,100', '52,700', '53,600', '53,900', '55,100', '56,000', '54,700', '53,200', '53,300', '53,100', '54,400', '54,900', '55,500', '56,100', '56,000', '55,800', '56,600', '55,300', '56,100', '56,900', '55,500', '55,800', '56,000', '54,700', '54,500', '54,100', '53,500', '51,900', '50,900', '55,900', '54,800', '55,600', '55,500', '54,800', '53,800', '54,600', '54,700', '55,700', '55,800', '56,900', '55,300', '54,100', '54,600', '54,300', '55,900', '56,100', '56,300', '56,100', '54,000', '53,200', '53,600', '52,900', '52,200', '54,000', '54,100', '54,400', '55,000', '53,800', '54,600', '55,000', '57,500', '55,800', '59,000', '59,200', '59,600', '58,200', '58,900', '58,600', '59,400', '61,300', '61,800', '61,600', '61,800', '62,800', '63,500', '62,700', '63,900', '63,200', '64,300', '64,500', '62,700', '63,300', '63,000', '62,900', '62,000', '61,900', '63,000', '62,300', '62,000', '61,500', '62,800', '63,900', '63,400', '63,200', '63,700', '63,100', '62,700', '61,000', '62,900', '64,000', '62,700', '63,200', '63,700', '63,800', '62,700', '63,600', '65,200', '66,100', '64,300', '63,400', '63,200', '62,600', '63,100', '62,500', '59,800', '60,300', '59,500', '58,700', '57,700', '55,500', '54,900', '56,900', '55,900', '56,300', '56,700', '58,000', '57,500', '57,400', '55,600', '56,300', '57,400', '54,700', '52,900', '54,800', '55,200', '55,900', '58,200', '56,400', '57,300', '56,000', '55,700', '54,500', '55,200', '54,100', '52,100', '53,900', '53,000', '52,400', '54,000', '53,000', '52,900', '52,800', '51,700', '51,400', '52,600', '50,900', '47,800', '48,600', '49,550', '52,200', '51,900', '52,400', '53,400', '52,000', '53,600', '55,200', '54,200', '54,500', '56,000', '56,500', '56,900', '55,500', '57,000', '56,900', '54,800', '55,300', '54,700', '54,000', '54,300', '52,600', '53,300', '51,500', '49,950', '50,800', '51,200', '50,600', '51,300', '48,600', '51,500', '54,500', '53,400', '53,300', '53,900', '54,400', '54,500', '47,500', '47,000', '46,100', '46,750', '45,550', '46,200', '47,150', '47,400', '46,800', '44,800', '44,850', '45,450', '46,150', '45,700', '43,950', '44,200', '44,600', '45,600', '46,400', '46,500', '47,050', '47,300', '46,250', '45,800', '47,250', '46,500', '46,150', '47,000', '43,550', '43,450', '44,500', '44,350', '42,700', '44,400', '44,350', '43,800', '44,400', '41,500', '40,600', '39,500', '39,350', '40,250', '41,150', '40,350', '41,100', '40,550', '39,600', '40,650', '40,700', '41,250', '41,750', '41,950', '41,000', '40,600', '40,800', '42,900', '43,600']\n"
     ]
    }
   ],
   "source": [
    "if __name__ == \"__main__\":\n",
    "    # 함수 호출\n",
    "    ret = get_column_from_csv(path2, '시가')\n",
    "    \n",
    "print(ret)"
   ]
  },
  {
   "cell_type": "code",
   "execution_count": 189,
   "metadata": {
    "collapsed": true
   },
   "outputs": [],
   "source": [
    "# solution03 / comma를 제거하자\n",
    "import csv\n",
    "def get_column_from_csv(excel_file, column_name, remove_comma):\n",
    "    f = open(excel_file)\n",
    "    reader = csv.reader(f)\n",
    "    lines = list(reader)\n",
    "    f.close()\n",
    "    \n",
    "    # column_name 값에 대해 정리\n",
    "    col_idx = lines[0].index(column_name)\n",
    "    \n",
    "    # lines 에서 cloumn_name에 해당하는 데이터 뽑아내기\n",
    "    column_list=[]\n",
    "    \n",
    "    for line in lines[1:]:\n",
    "        column = line[col_idx]\n",
    "        if remove_comma == 0:\n",
    "            column = int(column.replace(',',''))\n",
    "        column_list.append(column)\n",
    "        \n",
    "    return column_list"
   ]
  },
  {
   "cell_type": "code",
   "execution_count": 190,
   "metadata": {
    "collapsed": false
   },
   "outputs": [
    {
     "name": "stdout",
     "output_type": "stream",
     "text": [
      "[50000, 52500, 52400, 53100, 53300, 51800, 52700, 53700, 52700, 52400, 51600, 51100, 49900, 49150, 49100, 48300, 49250, 48800, 49850, 50400, 50000, 49200, 48200, 47600, 46850, 46200, 46200, 44600, 44600, 45100, 45400, 45250, 45950, 45150, 45000, 44950, 45050, 45700, 45000, 45350, 44700, 44850, 45450, 46100, 45200, 44600, 43800, 43300, 43000, 42650, 41800, 42100, 42250, 42500, 42550, 41200, 40650, 41700, 41200, 40250, 39500, 39700, 39550, 40500, 38700, 41250, 41200, 40850, 40700, 40450, 41600, 41000, 42100, 42600, 41300, 40200, 39850, 39500, 38850, 39850, 41300, 41400, 41200, 40950, 41000, 41100, 41200, 41900, 42400, 41200, 41000, 39600, 40150, 40950, 39150, 38800, 39050, 39150, 38650, 38750, 38250, 37500, 37000, 38350, 37900, 37900, 37350, 36850, 35950, 35700, 35750, 35550, 35300, 35750, 34900, 35300, 35550, 35250, 34200, 33550, 32900, 33700, 34200, 33450, 33650, 34450, 34400, 33950, 33350, 33000, 33650, 34600, 33450, 33000, 32550, 31100, 32150, 31200, 32100, 31850]\n"
     ]
    }
   ],
   "source": [
    "if __name__ == \"__main__\":\n",
    "    # 함수 호출\n",
    "    ret = get_column_from_csv(path1, '저가', 0)\n",
    "    \n",
    "print(ret)"
   ]
  },
  {
   "cell_type": "code",
   "execution_count": 191,
   "metadata": {
    "collapsed": false,
    "scrolled": true
   },
   "outputs": [
    {
     "data": {
      "text/plain": [
       "[30,\n",
       " 29,\n",
       " 28,\n",
       " 27,\n",
       " 26,\n",
       " 25,\n",
       " 24,\n",
       " 23,\n",
       " 22,\n",
       " 21,\n",
       " 20,\n",
       " 19,\n",
       " 18,\n",
       " 17,\n",
       " 16,\n",
       " 15,\n",
       " 14,\n",
       " 13,\n",
       " 12,\n",
       " 11,\n",
       " 10,\n",
       " 9,\n",
       " 8,\n",
       " 7,\n",
       " 6,\n",
       " 5,\n",
       " 4,\n",
       " 3,\n",
       " 2,\n",
       " 1]"
      ]
     },
     "execution_count": 191,
     "metadata": {},
     "output_type": "execute_result"
    }
   ],
   "source": [
    "list(range(30, 0, -1))"
   ]
  },
  {
   "cell_type": "code",
   "execution_count": 192,
   "metadata": {
    "collapsed": false
   },
   "outputs": [
    {
     "name": "stdout",
     "output_type": "stream",
     "text": [
      "['아유 못 구해유', '아유 못 구해유', '아유 못 구해유', '아유 못 구해유', '아유 못 구해유', 28.0, 27.0, 26.0, 25.0, 24.0, 23.0, 22.0, 21.0, 20.0, 19.0, 18.0, 17.0, 16.0, 15.0, 14.0, 13.0, 12.0, 11.0, 10.0, 9.0, 8.0, 7.0, 6.0, 5.0, 4.0]\n"
     ]
    }
   ],
   "source": [
    "# solution4 N일 주가이동평균 함수 구현하기\n",
    "def cal_moving_average(input, day):\n",
    "    result = []\n",
    "    \n",
    "    for i in range(len(input)):\n",
    "        if i < day:\n",
    "            result.append('아유 못 구해유')\n",
    "            \n",
    "        else:\n",
    "            ma = sum(input[i-day:i])/day\n",
    "            result.append(ma)\n",
    "        \n",
    "    return result\n",
    "\n",
    "if __name__ == \"__main__\":\n",
    "    ret = cal_moving_average(list(range(30, 0, -1)), 5)\n",
    "    \n",
    "    print(ret)"
   ]
  },
  {
   "cell_type": "markdown",
   "metadata": {},
   "source": [
    "## 나머지 내용은 pycharm에서 실행"
   ]
  }
 ],
 "metadata": {
  "kernelspec": {
   "display_name": "Python 3",
   "language": "python",
   "name": "python3"
  },
  "language_info": {
   "codemirror_mode": {
    "name": "ipython",
    "version": 3
   },
   "file_extension": ".py",
   "mimetype": "text/x-python",
   "name": "python",
   "nbconvert_exporter": "python",
   "pygments_lexer": "ipython3",
   "version": "3.6.0"
  }
 },
 "nbformat": 4,
 "nbformat_minor": 2
}
